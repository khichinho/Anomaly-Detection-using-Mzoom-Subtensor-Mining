{
 "cells": [
  {
   "cell_type": "code",
   "execution_count": 1,
   "metadata": {},
   "outputs": [],
   "source": [
    "import pandas as pd\n",
    "import numpy as np"
   ]
  },
  {
   "cell_type": "code",
   "execution_count": 2,
   "metadata": {},
   "outputs": [],
   "source": [
    "df=pd.read_csv('../data/Copy of rvp_30days_data.csv',encoding = \"ISO-8859-1\", low_memory=False)"
   ]
  },
  {
   "cell_type": "code",
   "execution_count": 3,
   "metadata": {},
   "outputs": [],
   "source": [
    "total_rows = float(len(df.index))"
   ]
  },
  {
   "cell_type": "code",
   "execution_count": 4,
   "metadata": {},
   "outputs": [],
   "source": [
    "column_uniques = pd.Series(len(pd.unique(df[c].values)) for c in df)"
   ]
  },
  {
   "cell_type": "code",
   "execution_count": 5,
   "metadata": {},
   "outputs": [
    {
     "name": "stdout",
     "output_type": "stream",
     "text": [
      "order_item_id :\t 2640042\n",
      "request_date :\t 30\n",
      "return_item_request_date_time :\t 1407563\n",
      "order_date :\t 438\n",
      "order_item_max_delivery_date_time :\t 1080267\n",
      "replacement_order_item_max_delivery_date_time :\t 1\n",
      "account_id :\t 1804412\n",
      "return_request_channel :\t 4\n",
      "return_item_quantity :\t 1\n",
      "return_id :\t 2670351\n",
      "return_item_id :\t 2670351\n",
      "return_from_address_pincode :\t 18903\n",
      "return_from_address_city :\t 16911\n",
      "return_from_address_state :\t 42\n",
      "return_item_status :\t 2\n",
      "return_reason :\t 27\n",
      "return_sub_reason :\t 146\n",
      "return_action :\t 10\n",
      "reject_reason :\t 1\n",
      "reject_sub_reason :\t 1\n",
      "user_rejected_by :\t 1\n",
      "user_approved_by :\t 5418\n",
      "user_cancelled_by :\t 1\n",
      "returned_product_id_key :\t 933353\n",
      "seller_id :\t 31346\n",
      "return_item_shipment_id :\t 2575704\n",
      "is_fbf_flag :\t 4\n",
      "refund_mode :\t 6\n",
      "marketplace_id :\t 3\n",
      "analytic_vertical :\t 2114\n",
      "cms_vertical :\t 2130\n",
      "analytic_category :\t 107\n",
      "analytic_sub_category :\t 375\n",
      "analytic_super_category :\t 49\n",
      "analytic_business_unit :\t 10\n",
      "furniture_flag :\t 1\n",
      "brand :\t 45708\n",
      "title :\t 541742\n",
      "return_amount :\t 12110\n",
      "forward_unit_id :\t 2670338\n",
      "account_age :\t 2558\n",
      "return_fsd_dh_id :\t 1\n",
      "refund_reason :\t 2\n",
      "pincode :\t 18854\n",
      "user_lockin_state :\t 4\n",
      "is_alpha_seller :\t 3\n",
      "order_payment_type :\t 4\n",
      "order_sales_channel :\t 6\n",
      "promise_breach :\t 5\n",
      "rts_breach :\t 5\n",
      "\n",
      "Total Rows:  2670351.0\n"
     ]
    }
   ],
   "source": [
    "for i in range(len(df.dtypes)):\n",
    "    print(df.dtypes.index[i],\":\\t\", column_uniques[i])\n",
    "    \n",
    "print(\"\\nTotal Rows: \", total_rows)"
   ]
  },
  {
   "cell_type": "code",
   "execution_count": 6,
   "metadata": {},
   "outputs": [],
   "source": [
    "# Creating a Y value for tensor\n",
    "df['mass']=df['return_item_quantity']"
   ]
  },
  {
   "cell_type": "code",
   "execution_count": 7,
   "metadata": {},
   "outputs": [],
   "source": [
    "drop_dimensions=[]\n",
    "for c in column_uniques.index:\n",
    "    if(column_uniques[c]>total_rows/10): drop_dimensions.append(df.dtypes.index[c])\n",
    "df = df.drop(columns=drop_dimensions)"
   ]
  },
  {
   "cell_type": "code",
   "execution_count": 8,
   "metadata": {},
   "outputs": [],
   "source": [
    "df = df.replace(' ','_',regex=True)\n",
    "# df['return_from_address_city'] = df['return_from_address_city'].replace(' ', '_', regex=True)\n",
    "# df['return_from_address_state'] = df['return_from_address_state'].replace(' ', '_', regex=True)\n",
    "# df['brand'] = df['brand'].replace(' ', '_', regex=True)"
   ]
  },
  {
   "cell_type": "code",
   "execution_count": 49,
   "metadata": {},
   "outputs": [],
   "source": [
    "df[5932:5933].to_csv('../data/rvp_unique_nospace.csv', index=False, encoding=\"ISO-8859-1\", header=False)\n",
    "# df.to_csv('../data/rvp_unique_nospace_head100k.csv', index=False, encoding=\"ISO-8859-1\", header=False)"
   ]
  },
  {
   "cell_type": "code",
   "execution_count": 50,
   "metadata": {},
   "outputs": [
    {
     "data": {
      "text/plain": [
       "Index(['request_date', 'order_date',\n",
       "       'replacement_order_item_max_delivery_date_time',\n",
       "       'return_request_channel', 'return_item_quantity',\n",
       "       'return_from_address_pincode', 'return_from_address_city',\n",
       "       'return_from_address_state', 'return_item_status', 'return_reason',\n",
       "       'return_sub_reason', 'return_action', 'reject_reason',\n",
       "       'reject_sub_reason', 'user_rejected_by', 'user_approved_by',\n",
       "       'user_cancelled_by', 'seller_id', 'is_fbf_flag', 'refund_mode',\n",
       "       'marketplace_id', 'analytic_vertical', 'cms_vertical',\n",
       "       'analytic_category', 'analytic_sub_category', 'analytic_super_category',\n",
       "       'analytic_business_unit', 'furniture_flag', 'brand', 'return_amount',\n",
       "       'account_age', 'return_fsd_dh_id', 'refund_reason', 'pincode',\n",
       "       'user_lockin_state', 'is_alpha_seller', 'order_payment_type',\n",
       "       'order_sales_channel', 'promise_breach', 'rts_breach', 'mass'],\n",
       "      dtype='object')"
      ]
     },
     "execution_count": 50,
     "metadata": {},
     "output_type": "execute_result"
    }
   ],
   "source": [
    "df.columns"
   ]
  },
  {
   "cell_type": "code",
   "execution_count": 51,
   "metadata": {},
   "outputs": [
    {
     "data": {
      "text/html": [
       "<div>\n",
       "<style scoped>\n",
       "    .dataframe tbody tr th:only-of-type {\n",
       "        vertical-align: middle;\n",
       "    }\n",
       "\n",
       "    .dataframe tbody tr th {\n",
       "        vertical-align: top;\n",
       "    }\n",
       "\n",
       "    .dataframe thead th {\n",
       "        text-align: right;\n",
       "    }\n",
       "</style>\n",
       "<table border=\"1\" class=\"dataframe\">\n",
       "  <thead>\n",
       "    <tr style=\"text-align: right;\">\n",
       "      <th></th>\n",
       "      <th>request_date</th>\n",
       "      <th>order_date</th>\n",
       "      <th>replacement_order_item_max_delivery_date_time</th>\n",
       "      <th>return_request_channel</th>\n",
       "      <th>return_item_quantity</th>\n",
       "      <th>return_from_address_pincode</th>\n",
       "      <th>return_from_address_city</th>\n",
       "      <th>return_from_address_state</th>\n",
       "      <th>return_item_status</th>\n",
       "      <th>return_reason</th>\n",
       "      <th>...</th>\n",
       "      <th>return_fsd_dh_id</th>\n",
       "      <th>refund_reason</th>\n",
       "      <th>pincode</th>\n",
       "      <th>user_lockin_state</th>\n",
       "      <th>is_alpha_seller</th>\n",
       "      <th>order_payment_type</th>\n",
       "      <th>order_sales_channel</th>\n",
       "      <th>promise_breach</th>\n",
       "      <th>rts_breach</th>\n",
       "      <th>mass</th>\n",
       "    </tr>\n",
       "  </thead>\n",
       "  <tbody>\n",
       "    <tr>\n",
       "      <th>5932</th>\n",
       "      <td>6/23/2019</td>\n",
       "      <td>6/17/2019</td>\n",
       "      <td>NaN</td>\n",
       "      <td>SELF_SERVE</td>\n",
       "      <td>1</td>\n",
       "      <td>231001.0</td>\n",
       "      <td>Mirzapur_District</td>\n",
       "      <td>Uttar_Pradesh</td>\n",
       "      <td>init</td>\n",
       "      <td>DEFECTIVE_PRODUCT</td>\n",
       "      <td>...</td>\n",
       "      <td>NaN</td>\n",
       "      <td>customer_wants_refund</td>\n",
       "      <td>231001.0</td>\n",
       "      <td>inactive</td>\n",
       "      <td>0.0</td>\n",
       "      <td>COD</td>\n",
       "      <td>AndroidApp</td>\n",
       "      <td>Ahead</td>\n",
       "      <td>Met</td>\n",
       "      <td>1</td>\n",
       "    </tr>\n",
       "  </tbody>\n",
       "</table>\n",
       "<p>1 rows × 41 columns</p>\n",
       "</div>"
      ],
      "text/plain": [
       "     request_date order_date  replacement_order_item_max_delivery_date_time  \\\n",
       "5932    6/23/2019  6/17/2019                                            NaN   \n",
       "\n",
       "     return_request_channel  return_item_quantity  \\\n",
       "5932             SELF_SERVE                     1   \n",
       "\n",
       "      return_from_address_pincode return_from_address_city  \\\n",
       "5932                     231001.0        Mirzapur_District   \n",
       "\n",
       "     return_from_address_state return_item_status      return_reason  ...  \\\n",
       "5932             Uttar_Pradesh               init  DEFECTIVE_PRODUCT  ...   \n",
       "\n",
       "     return_fsd_dh_id          refund_reason   pincode  user_lockin_state  \\\n",
       "5932              NaN  customer_wants_refund  231001.0           inactive   \n",
       "\n",
       "      is_alpha_seller order_payment_type  order_sales_channel promise_breach  \\\n",
       "5932              0.0                COD           AndroidApp          Ahead   \n",
       "\n",
       "     rts_breach mass  \n",
       "5932        Met    1  \n",
       "\n",
       "[1 rows x 41 columns]"
      ]
     },
     "execution_count": 51,
     "metadata": {},
     "output_type": "execute_result"
    }
   ],
   "source": [
    "df[5932:5933]"
   ]
  }
 ],
 "metadata": {
  "kernelspec": {
   "display_name": "Python 3",
   "language": "python",
   "name": "python3"
  },
  "language_info": {
   "codemirror_mode": {
    "name": "ipython",
    "version": 3
   },
   "file_extension": ".py",
   "mimetype": "text/x-python",
   "name": "python",
   "nbconvert_exporter": "python",
   "pygments_lexer": "ipython3",
   "version": "3.7.3"
  }
 },
 "nbformat": 4,
 "nbformat_minor": 2
}
